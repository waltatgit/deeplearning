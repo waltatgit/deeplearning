{
  "nbformat": 4,
  "nbformat_minor": 0,
  "metadata": {
    "kernelspec": {
      "display_name": "Python 3",
      "language": "python",
      "name": "python3"
    },
    "language_info": {
      "codemirror_mode": {
        "name": "ipython",
        "version": 3
      },
      "file_extension": ".py",
      "mimetype": "text/x-python",
      "name": "python",
      "nbconvert_exporter": "python",
      "pygments_lexer": "ipython3",
      "version": "3.7.6"
    },
    "colab": {
      "name": "Multi Class Text Classification with Keras and LSTM.ipynb",
      "provenance": [],
      "collapsed_sections": [],
      "include_colab_link": true
    },
    "accelerator": "GPU"
  },
  "cells": [
    {
      "cell_type": "markdown",
      "metadata": {
        "id": "view-in-github",
        "colab_type": "text"
      },
      "source": [
        "<a href=\"https://colab.research.google.com/github/waltatgit/deeplearning/blob/master/Multi_Class_Text_Classification_with_Keras_and_LSTM.ipynb\" target=\"_parent\"><img src=\"https://colab.research.google.com/assets/colab-badge.svg\" alt=\"Open In Colab\"/></a>"
      ]
    },
    {
      "cell_type": "markdown",
      "metadata": {
        "id": "JtUF7pLcdEQD",
        "colab_type": "text"
      },
      "source": [
        "## Problem Definition"
      ]
    },
    {
      "cell_type": "markdown",
      "metadata": {
        "id": "x1gYKyO4dEQE",
        "colab_type": "text"
      },
      "source": [
        "For our problem definition, we’ll try to solve the problem on the text classification on BBC News articles and its category. Based on the given text as an input, we will predict what would be the category. We have five type of categories: business, entertainment, politics, sport and tech."
      ]
    },
    {
      "cell_type": "markdown",
      "metadata": {
        "id": "tMPMTpxNdEQF",
        "colab_type": "text"
      },
      "source": [
        "### Import the Libraries\n",
        "\n",
        "Firstly, we will import the necessary libraries like TensorFlow, Numpy and CSV."
      ]
    },
    {
      "cell_type": "code",
      "metadata": {
        "id": "J_yUbwH2dEQF",
        "colab_type": "code",
        "colab": {}
      },
      "source": [
        "import csv\n",
        "import tensorflow as tf\n",
        "import numpy as np\n",
        "from tensorflow.keras.preprocessing.text import Tokenizer\n",
        "from tensorflow.keras.preprocessing.sequence import pad_sequences\n",
        "from tensorflow.keras.models import Sequential\n",
        "from tensorflow.keras.layers import Dense, Flatten, LSTM, Dropout, Activation, Embedding, Bidirectional\n",
        "from keras.callbacks import EarlyStopping\n"
      ],
      "execution_count": 20,
      "outputs": []
    },
    {
      "cell_type": "markdown",
      "metadata": {
        "id": "Ut20NVzGdEQJ",
        "colab_type": "text"
      },
      "source": [
        "### Get the Data\n",
        "\n",
        "We need a data for our model, we will get the data from https://storage.googleapis.com/dataset-uploader/bbc/bbc-text.csv and save it in a /tmp folder with the file name bbc-text.csv.\n"
      ]
    },
    {
      "cell_type": "code",
      "metadata": {
        "id": "_JFmhvJkdEQK",
        "colab_type": "code",
        "colab": {
          "base_uri": "https://localhost:8080/",
          "height": 204
        },
        "outputId": "3dce9677-8034-4684-dcdd-c3ab134d6fc6"
      },
      "source": [
        "!wget --no-check-certificate \\\n",
        "    https://storage.googleapis.com/dataset-uploader/bbc/bbc-text.csv \\\n",
        "    -O /tmp/bbc-text.csv"
      ],
      "execution_count": 21,
      "outputs": [
        {
          "output_type": "stream",
          "text": [
            "--2020-08-21 19:47:27--  https://storage.googleapis.com/dataset-uploader/bbc/bbc-text.csv\n",
            "Resolving storage.googleapis.com (storage.googleapis.com)... 74.125.142.128, 74.125.195.128, 74.125.20.128, ...\n",
            "Connecting to storage.googleapis.com (storage.googleapis.com)|74.125.142.128|:443... connected.\n",
            "HTTP request sent, awaiting response... 200 OK\n",
            "Length: 5057493 (4.8M) [text/csv]\n",
            "Saving to: ‘/tmp/bbc-text.csv’\n",
            "\n",
            "\r/tmp/bbc-text.csv     0%[                    ]       0  --.-KB/s               \r/tmp/bbc-text.csv   100%[===================>]   4.82M  --.-KB/s    in 0.03s   \n",
            "\n",
            "2020-08-21 19:47:27 (174 MB/s) - ‘/tmp/bbc-text.csv’ saved [5057493/5057493]\n",
            "\n"
          ],
          "name": "stdout"
        }
      ]
    },
    {
      "cell_type": "markdown",
      "metadata": {
        "id": "iftcGcJ8dEQN",
        "colab_type": "text"
      },
      "source": [
        "### Import NTLK Library\n",
        "\n",
        "Import ntlk library and  the stopwords function. We will set the stopwords for English language. These are the samples for English stopwords: has, hasn’t, and, aren’t, because, each, during."
      ]
    },
    {
      "cell_type": "code",
      "metadata": {
        "id": "AvKKRg25dEQN",
        "colab_type": "code",
        "colab": {
          "base_uri": "https://localhost:8080/",
          "height": 51
        },
        "outputId": "b49a1b9b-e8ca-4ba7-a3c1-ec435bc6cf45"
      },
      "source": [
        "import nltk\n",
        "nltk.download('stopwords')\n",
        "from nltk.corpus import stopwords\n",
        "STOPWORDS = set(stopwords.words('english'))"
      ],
      "execution_count": 22,
      "outputs": [
        {
          "output_type": "stream",
          "text": [
            "[nltk_data] Downloading package stopwords to /root/nltk_data...\n",
            "[nltk_data]   Unzipping corpora/stopwords.zip.\n"
          ],
          "name": "stdout"
        }
      ]
    },
    {
      "cell_type": "markdown",
      "metadata": {
        "id": "BxtiFxO-dEQP",
        "colab_type": "text"
      },
      "source": [
        "### Set the Hyper-Parameters\n",
        "We set the hyper-Parameters that are required to build and train the model.\n"
      ]
    },
    {
      "cell_type": "code",
      "metadata": {
        "id": "KbgBU5-udEQQ",
        "colab_type": "code",
        "colab": {}
      },
      "source": [
        "vocab_size = 5000 # make the top list of words (common words)\n",
        "embedding_dim = 64\n",
        "max_length = 200\n",
        "trunc_type = 'post'\n",
        "padding_type = 'post'\n",
        "oov_tok = '<OOV>' # OOV = Out of Vocabulary\n",
        "training_portion = .8"
      ],
      "execution_count": 23,
      "outputs": []
    },
    {
      "cell_type": "markdown",
      "metadata": {
        "id": "3TFjfnAFdEQS",
        "colab_type": "text"
      },
      "source": [
        "### Populate List and Remove the Stopwords\n",
        "We populate the list of articles and labels from the data and also remove the stopwords.\n"
      ]
    },
    {
      "cell_type": "code",
      "metadata": {
        "id": "sO3BL3UGdEQS",
        "colab_type": "code",
        "colab": {}
      },
      "source": [
        "articles = []\n",
        "labels = []\n",
        "\n",
        "with open(\"/tmp/bbc-text.csv\", 'r') as csvfile:\n",
        "    reader = csv.reader(csvfile, delimiter=',')\n",
        "    next(reader)\n",
        "    for row in reader:\n",
        "        labels.append(row[0])\n",
        "        article = row[1]\n",
        "        for word in STOPWORDS:\n",
        "            token = ' ' + word + ' '\n",
        "            article = article.replace(token, ' ')\n",
        "            article = article.replace(' ', ' ')\n",
        "        articles.append(article)"
      ],
      "execution_count": 24,
      "outputs": []
    },
    {
      "cell_type": "markdown",
      "metadata": {
        "id": "vsB6YYhMdEQU",
        "colab_type": "text"
      },
      "source": [
        "### Create Training and Validation Set\n",
        "Then we need to split them into training set and validation set. We set 80% (training_portion = .8) for training and another 20% for validation.\n"
      ]
    },
    {
      "cell_type": "code",
      "metadata": {
        "id": "BpuKyFiUdEQU",
        "colab_type": "code",
        "colab": {}
      },
      "source": [
        "train_size = int(len(articles) * training_portion)\n",
        "\n",
        "train_articles = articles[0: train_size]\n",
        "train_labels = labels[0: train_size]\n",
        "\n",
        "validation_articles = articles[train_size:]\n",
        "validation_labels = labels[train_size:]"
      ],
      "execution_count": 25,
      "outputs": []
    },
    {
      "cell_type": "markdown",
      "metadata": {
        "id": "Lp9zACV8dEQW",
        "colab_type": "text"
      },
      "source": [
        "### Tokenization\n",
        "\n",
        "We set the tokenization with num_words is vocab_size (5000), and oov_token is ‘<OOV>’ . And we call the method fits_on_texts on train_articles. This method creates the vocabulary index based on word frequency.\n",
        "For example if we give the text “The cat sat on the mat.”, it will create a dictonary {‘\\<OOV\\>’: 1, ‘cat’: 3, ‘mat’: 6, ‘on’: 5, ‘sat’: 4, ‘the’: 2}.\n",
        "    \n",
        "The oov_token is the value ‘\\<OOV\\>’ that we put if the word is not listed in the dictionary."
      ]
    },
    {
      "cell_type": "code",
      "metadata": {
        "id": "6B6ETdDNdEQX",
        "colab_type": "code",
        "colab": {}
      },
      "source": [
        "tokenizer = Tokenizer(num_words = vocab_size, oov_token=oov_tok)\n",
        "tokenizer.fit_on_texts(train_articles)\n",
        "word_index = tokenizer.word_index"
      ],
      "execution_count": 26,
      "outputs": []
    },
    {
      "cell_type": "markdown",
      "metadata": {
        "id": "ApK6-eMbdEQZ",
        "colab_type": "text"
      },
      "source": [
        "### Convert to Sequences\n",
        "After tokenization, we call the method text_to_sequences. It transforms each text in texts to a sequence of integers. Basically, it takes each word in the text and replaces it with its corresponding integer value from the dictionary tokenizer.word_index. If the word is not in the dictionary, it will put the value of 1.\n",
        "For example, if we give the text “the cat sat on my table”, we will get the sequence: [2, 3, 4, 5, 1, 1]. The last two [1,1] is for the word “my table” which is not in the dictionary."
      ]
    },
    {
      "cell_type": "code",
      "metadata": {
        "id": "OYQaDGpsdEQZ",
        "colab_type": "code",
        "colab": {}
      },
      "source": [
        "train_sequences = tokenizer.texts_to_sequences(train_articles)\n",
        "validation_sequences = tokenizer.texts_to_sequences(validation_articles)"
      ],
      "execution_count": 27,
      "outputs": []
    },
    {
      "cell_type": "markdown",
      "metadata": {
        "id": "l92F_S4hdEQb",
        "colab_type": "text"
      },
      "source": [
        "### Sequence Truncation and Padding\n",
        "Those sequences are not in the same size, we need to make them in same size (concrete shape) when we train them for NLP. We need to use padding and truncate them so all sequences will be in the same size. We use post for padding_type and truncate_type"
      ]
    },
    {
      "cell_type": "code",
      "metadata": {
        "id": "qZH7v0fEdEQb",
        "colab_type": "code",
        "colab": {}
      },
      "source": [
        "train_padded = pad_sequences(train_sequences, maxlen=max_length, padding=padding_type, truncating=trunc_type)\n",
        "validation_padded = pad_sequences(validation_sequences, maxlen=max_length, padding=padding_type, truncating=trunc_type)"
      ],
      "execution_count": 28,
      "outputs": []
    },
    {
      "cell_type": "markdown",
      "metadata": {
        "id": "_ov1KXMKdEQd",
        "colab_type": "text"
      },
      "source": [
        "### Labels\n",
        "\n",
        "We need to do the same thing here as we did before when we deal with the features, articles. As the model doesn’t understand the words, we need to convert the label into numbers. We do tokenization and convert to sequence as before. When doing the tokenization, we don’t indicate the vocab size and oov_token."
      ]
    },
    {
      "cell_type": "code",
      "metadata": {
        "id": "cYLR95rfdEQe",
        "colab_type": "code",
        "colab": {}
      },
      "source": [
        "label_tokenizer = Tokenizer()\n",
        "label_tokenizer.fit_on_texts(labels)\n",
        "\n",
        "training_label_seq = np.array(label_tokenizer.texts_to_sequences(train_labels))\n",
        "validation_label_seq = np.array(label_tokenizer.texts_to_sequences(validation_labels))"
      ],
      "execution_count": 29,
      "outputs": []
    },
    {
      "cell_type": "markdown",
      "metadata": {
        "id": "hI0rEG4WdEQg",
        "colab_type": "text"
      },
      "source": [
        "### Create Model\n",
        "Now we are ready to create the sequential model. The model architecture consist of the following layers:\n",
        "\n",
        "- Embedding Layer\n",
        "The model begins with an embedding layer which turns the input integer indices into the corresponding word vectors. Word embedding is a way to represent a word as a vector. Word embeddings allow the value of the vector’s element to be trained. After training, words with similar meanings often have the similar vectors.\n",
        "\n",
        "- Dropout Layer\n",
        "Add the dropout layer to combat overfitting.\n",
        "\n",
        "- BiDirectional with LSTM Layer\n",
        "The BiDirectional layer propagates the input forward and backwards through the LSTM layer and then concatenates the output. This helps the LSTM to learn long range dependencies.\n",
        "\n",
        "- Dense Layer\n",
        "This the final layer, Dense layer with softmax activation for the multi class classification.\n",
        "\n"
      ]
    },
    {
      "cell_type": "code",
      "metadata": {
        "id": "nCyMLbJ_dEQg",
        "colab_type": "code",
        "colab": {
          "base_uri": "https://localhost:8080/",
          "height": 289
        },
        "outputId": "348e330f-31b3-4bcc-e722-36cc98a23ca6"
      },
      "source": [
        "model = Sequential()\n",
        "model.add(Embedding(vocab_size, embedding_dim))\n",
        "model.add(Dropout(0.5))\n",
        "model.add(Bidirectional(LSTM(embedding_dim)))\n",
        "model.add(Dense(6, activation='softmax'))\n",
        "model.summary()"
      ],
      "execution_count": 30,
      "outputs": [
        {
          "output_type": "stream",
          "text": [
            "Model: \"sequential_1\"\n",
            "_________________________________________________________________\n",
            "Layer (type)                 Output Shape              Param #   \n",
            "=================================================================\n",
            "embedding_1 (Embedding)      (None, None, 64)          320000    \n",
            "_________________________________________________________________\n",
            "dropout_1 (Dropout)          (None, None, 64)          0         \n",
            "_________________________________________________________________\n",
            "bidirectional_1 (Bidirection (None, 128)               66048     \n",
            "_________________________________________________________________\n",
            "dense_1 (Dense)              (None, 6)                 774       \n",
            "=================================================================\n",
            "Total params: 386,822\n",
            "Trainable params: 386,822\n",
            "Non-trainable params: 0\n",
            "_________________________________________________________________\n"
          ],
          "name": "stdout"
        }
      ]
    },
    {
      "cell_type": "markdown",
      "metadata": {
        "id": "5n4yGexodEQi",
        "colab_type": "text"
      },
      "source": [
        "### Compile the Model\n",
        "\n",
        "We then compile the model to configure the training process with the loss sparse_categorical_crossentropy since we didn’t one-hot encode the labels. We use Adam optimizer.\n"
      ]
    },
    {
      "cell_type": "code",
      "metadata": {
        "id": "ioeYrmFgdEQj",
        "colab_type": "code",
        "colab": {}
      },
      "source": [
        "opt = tf.keras.optimizers.Adam(lr=0.001, decay=1e-6)\n",
        "model.compile(\n",
        "    loss='sparse_categorical_crossentropy',\n",
        "    optimizer=opt,\n",
        "    metrics=['accuracy'],\n",
        ")"
      ],
      "execution_count": 31,
      "outputs": []
    },
    {
      "cell_type": "markdown",
      "metadata": {
        "id": "MzaIJer3dEQk",
        "colab_type": "text"
      },
      "source": [
        "### Train the Model\n",
        "Now we are ready to train the model by calling the method fit().\n"
      ]
    },
    {
      "cell_type": "code",
      "metadata": {
        "id": "3h2yZ4QxdEQl",
        "colab_type": "code",
        "colab": {
          "base_uri": "https://localhost:8080/",
          "height": 323
        },
        "outputId": "43384f0c-e940-4f1d-8fad-509fc4b161d3"
      },
      "source": [
        "from keras.callbacks import EarlyStopping\n",
        "\n",
        "es = EarlyStopping(monitor='val_loss', patience=5)\n",
        "\n",
        "num_epochs = 100\n",
        "history = model.fit(train_padded, \n",
        "                    training_label_seq, \n",
        "                    epochs=num_epochs, \n",
        "                    validation_data=(validation_padded, validation_label_seq), \n",
        "                    verbose=2,\n",
        "                    callbacks=[es])"
      ],
      "execution_count": 41,
      "outputs": [
        {
          "output_type": "stream",
          "text": [
            "Epoch 1/100\n",
            "56/56 - 1s - loss: 0.0333 - accuracy: 0.9921 - val_loss: 0.2106 - val_accuracy: 0.9416\n",
            "Epoch 2/100\n",
            "56/56 - 1s - loss: 0.0095 - accuracy: 0.9994 - val_loss: 0.1504 - val_accuracy: 0.9506\n",
            "Epoch 3/100\n",
            "56/56 - 1s - loss: 0.0046 - accuracy: 0.9994 - val_loss: 0.1352 - val_accuracy: 0.9596\n",
            "Epoch 4/100\n",
            "56/56 - 1s - loss: 0.0028 - accuracy: 1.0000 - val_loss: 0.1316 - val_accuracy: 0.9640\n",
            "Epoch 5/100\n",
            "56/56 - 1s - loss: 0.0022 - accuracy: 1.0000 - val_loss: 0.1355 - val_accuracy: 0.9640\n",
            "Epoch 6/100\n",
            "56/56 - 1s - loss: 0.0019 - accuracy: 1.0000 - val_loss: 0.1385 - val_accuracy: 0.9640\n",
            "Epoch 7/100\n",
            "56/56 - 1s - loss: 0.0016 - accuracy: 1.0000 - val_loss: 0.1416 - val_accuracy: 0.9640\n",
            "Epoch 8/100\n",
            "56/56 - 1s - loss: 0.0014 - accuracy: 1.0000 - val_loss: 0.1467 - val_accuracy: 0.9640\n",
            "Epoch 9/100\n",
            "56/56 - 1s - loss: 0.0013 - accuracy: 1.0000 - val_loss: 0.1473 - val_accuracy: 0.9663\n"
          ],
          "name": "stdout"
        }
      ]
    },
    {
      "cell_type": "markdown",
      "metadata": {
        "id": "Ke0cXMC7dEQn",
        "colab_type": "text"
      },
      "source": [
        "### Plot the graph\n",
        "\n",
        "We plot the history for accuracy and loss and see if there is overfitting.\n"
      ]
    },
    {
      "cell_type": "code",
      "metadata": {
        "id": "lTy38OW_dEQn",
        "colab_type": "code",
        "colab": {
          "base_uri": "https://localhost:8080/",
          "height": 541
        },
        "outputId": "10c7da41-de79-4499-f94d-8c0bca5ff8ae"
      },
      "source": [
        "import matplotlib.pyplot as plt\n",
        "\n",
        "def plot_graphs(history, string):\n",
        "  plt.plot(history.history[string])\n",
        "  plt.plot(history.history['val_'+string])\n",
        "  plt.xlabel(\"Epochs\")\n",
        "  plt.ylabel(string)\n",
        "  plt.legend([string, 'val_'+string])\n",
        "  plt.show()\n",
        "  \n",
        "plot_graphs(history, \"accuracy\")\n",
        "plot_graphs(history, \"loss\")"
      ],
      "execution_count": 42,
      "outputs": [
        {
          "output_type": "display_data",
          "data": {
            "image/png": "[encoded data removed]",
            "text/plain": [
              "<Figure size 432x288 with 1 Axes>"
            ]
          },
          "metadata": {
            "tags": [],
            "needs_background": "light"
          }
        },
        {
          "output_type": "display_data",
          "data": {
            "image/png": "[encoded data removed]",
            "text/plain": [
              "<Figure size 432x288 with 1 Axes>"
            ]
          },
          "metadata": {
            "tags": [],
            "needs_background": "light"
          }
        }
      ]
    },
    {
      "cell_type": "markdown",
      "metadata": {
        "id": "aGACAwBTdEQp",
        "colab_type": "text"
      },
      "source": [
        "### Calculate classification metrics"
      ]
    },
    {
      "cell_type": "code",
      "metadata": {
        "id": "AD3KEBN5dEQq",
        "colab_type": "code",
        "colab": {}
      },
      "source": [
        "#predicted = model.predict_classes(validation_padded)"
      ],
      "execution_count": 43,
      "outputs": []
    },
    {
      "cell_type": "code",
      "metadata": {
        "id": "ByTjKMzcdEQs",
        "colab_type": "code",
        "colab": {}
      },
      "source": [
        "from sklearn import metrics\n"
      ],
      "execution_count": 44,
      "outputs": []
    },
    {
      "cell_type": "code",
      "metadata": {
        "id": "rJfHFc9odEQt",
        "colab_type": "code",
        "colab": {}
      },
      "source": [
        "predicted2 = model.predict(validation_padded)"
      ],
      "execution_count": 45,
      "outputs": []
    },
    {
      "cell_type": "code",
      "metadata": {
        "id": "qlb8fO-ydEQv",
        "colab_type": "code",
        "colab": {}
      },
      "source": [
        "predicted2 = np.argmax(predicted2, axis=-1)"
      ],
      "execution_count": 46,
      "outputs": []
    },
    {
      "cell_type": "code",
      "metadata": {
        "id": "WKn11r27dEQw",
        "colab_type": "code",
        "colab": {
          "base_uri": "https://localhost:8080/",
          "height": 221
        },
        "outputId": "ec9afd5c-9295-4b37-de7f-8f549cbbc3e3"
      },
      "source": [
        "print(metrics.classification_report(validation_label_seq, predicted2))\n"
      ],
      "execution_count": 47,
      "outputs": [
        {
          "output_type": "stream",
          "text": [
            "              precision    recall  f1-score   support\n",
            "\n",
            "           1       0.98      0.99      0.99       101\n",
            "           2       0.99      0.94      0.97       106\n",
            "           3       0.93      0.98      0.95        86\n",
            "           4       0.97      0.97      0.97        86\n",
            "           5       0.95      0.95      0.95        66\n",
            "\n",
            "    accuracy                           0.97       445\n",
            "   macro avg       0.96      0.97      0.97       445\n",
            "weighted avg       0.97      0.97      0.97       445\n",
            "\n"
          ],
          "name": "stdout"
        }
      ]
    },
    {
      "cell_type": "code",
      "metadata": {
        "id": "5PkEBbwxdEQy",
        "colab_type": "code",
        "colab": {}
      },
      "source": [
        ""
      ],
      "execution_count": 38,
      "outputs": []
    },
    {
      "cell_type": "code",
      "metadata": {
        "id": "vPbuN8OEdEQz",
        "colab_type": "code",
        "colab": {}
      },
      "source": [
        ""
      ],
      "execution_count": 38,
      "outputs": []
    }
  ]
}